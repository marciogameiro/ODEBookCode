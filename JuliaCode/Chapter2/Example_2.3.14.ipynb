{
 "cells": [
  {
   "cell_type": "markdown",
   "metadata": {},
   "source": [
    "# Verifying zeros of the Fisher system"
   ]
  },
  {
   "cell_type": "markdown",
   "metadata": {},
   "source": [
    "We begin by defining the function $f$ and its derivative $Df$."
   ]
  },
  {
   "cell_type": "code",
   "execution_count": 1,
   "metadata": {},
   "outputs": [],
   "source": [
    "using LinearAlgebra # Load the LinearAlgebra package\n",
    "using Polynomials   # Load the Polynomials package"
   ]
  },
  {
   "cell_type": "code",
   "execution_count": 2,
   "metadata": {},
   "outputs": [
    {
     "data": {
      "text/plain": [
       "f (generic function with 1 method)"
      ]
     },
     "execution_count": 2,
     "metadata": {},
     "output_type": "execute_result"
    }
   ],
   "source": [
    "function f(x, lambda)\n",
    "  N = length(x) - 1\n",
    "\n",
    "  x2 = zeros(size(x))  # The quadratic term\n",
    "  f_x = zeros(size(x)) # The computed f(x)\n",
    "\n",
    "  for k = 0:N\n",
    "    # Compute the quadratic term\n",
    "    for k1 = -N:N\n",
    "      k2 = k - k1\n",
    "      if abs(k2) <= N\n",
    "        x2[k + 1] += x[abs(k1) + 1] * x[abs(k2) + 1]\n",
    "      end\n",
    "    end\n",
    "\n",
    "    f_x[k + 1] = (lambda - k^2) * x[k + 1] - lambda * x2[k + 1]\n",
    "  end\n",
    "\n",
    "  return f_x\n",
    "end"
   ]
  },
  {
   "cell_type": "code",
   "execution_count": 3,
   "metadata": {},
   "outputs": [
    {
     "data": {
      "text/plain": [
       "Df (generic function with 1 method)"
      ]
     },
     "execution_count": 3,
     "metadata": {},
     "output_type": "execute_result"
    }
   ],
   "source": [
    "function Df(x, lambda)\n",
    "  N = length(x) - 1\n",
    "\n",
    "  Df_x = zeros(N + 1, N + 1) # Jacobian matrix Df(x)\n",
    "\n",
    "  for k = 0:N\n",
    "    for l = 0:N\n",
    "      # Compute the derivative of the non-linear term\n",
    "      if (k + l <= N) && (l > 0)\n",
    "        Df_x[k + 1, l + 1] = - 2.0 * lambda * (x[abs(k - l) + 1] + x[k + l + 1])\n",
    "      else\n",
    "        Df_x[k + 1, l + 1] = - 2.0 * lambda * x[abs(k - l) + 1]\n",
    "      end\n",
    "    end\n",
    "\n",
    "    # Add derivative of linear term to diagonal\n",
    "    Df_x[k + 1, k + 1] += lambda - k^2\n",
    "  end\n",
    "\n",
    "  return Df_x\n",
    "end"
   ]
  },
  {
   "cell_type": "markdown",
   "metadata": {},
   "source": [
    "Next we implement Newton's method to find the approximate zeros of $f$."
   ]
  },
  {
   "cell_type": "code",
   "execution_count": 4,
   "metadata": {},
   "outputs": [
    {
     "data": {
      "text/plain": [
       "Newton (generic function with 1 method)"
      ]
     },
     "execution_count": 4,
     "metadata": {},
     "output_type": "execute_result"
    }
   ],
   "source": [
    "using LinearAlgebra # Load the LinearAlgebra package\n",
    "\n",
    "function Newton(f, Df, x0, lambda, Max_Itr, Err_Tol)\n",
    "  x1 = x0 # Initialize x1 as the initial point x0\n",
    "\n",
    "  f_x1 = f(x1, lambda)   # Compute f at the initial point\n",
    "  norm_f_x1 = norm(f_x1) # Norm of f at the initial point\n",
    "\n",
    "  num_itr = 0       # Intialize iteration counter\n",
    "\n",
    "  # Return x1 if norm of f_x1 is less than tolerance\n",
    "  if norm_f_x1 < Err_Tol\n",
    "    return x1\n",
    "  end\n",
    "\n",
    "  # Next start Newton iterations\n",
    "  while num_itr < Max_Itr\n",
    "    x0 = x1                 # Set x0 as x1\n",
    "    f_x0 = f_x1             # Set f_x0 as f_x1\n",
    "\n",
    "    Df_x0 = Df(x0, lambda)  # Jacobian matrix at x0\n",
    "    u = Df_x0 \\ f_x0        # Newton iteration (solve linear sistem Df_x0 * u = f_x0)\n",
    "    x1 = x0 - u             # Newton iteration (compute x1)\n",
    "\n",
    "    f_x1 = f(x1, lambda)    # Compute f at x1\n",
    "    norm_f_x1 = norm(f_x1)  # Norm of f at x1\n",
    "\n",
    "    num_itr = num_itr + 1   # Increment iteration counter\n",
    "\n",
    "    # Check for convergence\n",
    "    if norm_f_x1 < Err_Tol\n",
    "      return x1\n",
    "    end\n",
    "  end\n",
    "\n",
    "  # Newton did not converged if we got here\n",
    "  error(\"Max iterations exceeded.\")\n",
    "end"
   ]
  },
  {
   "cell_type": "markdown",
   "metadata": {},
   "source": [
    "Now we define the parameter $\\lambda$, the dimension $N$, and an initial guess $x_0$ for Newton's method."
   ]
  },
  {
   "cell_type": "code",
   "execution_count": 20,
   "metadata": {},
   "outputs": [],
   "source": [
    "# Set the parameter values\n",
    "lambda = 50; N = 100;\n",
    "\n",
    "# Initial guess for Newton\n",
    "x0 = zeros(N + 1, 1); x0[1] = 1.0; x0[2] = 0.3;"
   ]
  },
  {
   "cell_type": "code",
   "execution_count": 21,
   "metadata": {},
   "outputs": [
    {
     "data": {
      "text/plain": [
       "101×1 Array{Float64,2}:\n",
       " 1.0\n",
       " 0.3\n",
       " 0.0\n",
       " 0.0\n",
       " 0.0\n",
       " 0.0\n",
       " 0.0\n",
       " 0.0\n",
       " 0.0\n",
       " 0.0\n",
       " 0.0\n",
       " 0.0\n",
       " 0.0\n",
       " ⋮  \n",
       " 0.0\n",
       " 0.0\n",
       " 0.0\n",
       " 0.0\n",
       " 0.0\n",
       " 0.0\n",
       " 0.0\n",
       " 0.0\n",
       " 0.0\n",
       " 0.0\n",
       " 0.0\n",
       " 0.0"
      ]
     },
     "execution_count": 21,
     "metadata": {},
     "output_type": "execute_result"
    }
   ],
   "source": [
    "x0"
   ]
  },
  {
   "cell_type": "markdown",
   "metadata": {},
   "source": [
    "Next we apply Newton's method to find a numerical solution."
   ]
  },
  {
   "cell_type": "code",
   "execution_count": 22,
   "metadata": {},
   "outputs": [],
   "source": [
    "max_itr = 100;    # Max number of Newton iterations\n",
    "err_tol = 1e-10; # Error tolerance for Newton\n",
    "\n",
    "# Compute x_bar using Newton's method\n",
    "x_bar = Newton(f, Df, x0, lambda, max_itr, err_tol);"
   ]
  },
  {
   "cell_type": "code",
   "execution_count": 23,
   "metadata": {
    "scrolled": true
   },
   "outputs": [
    {
     "data": {
      "text/plain": [
       "101×1 Array{Float64,2}:\n",
       "  0.4592118385393281    \n",
       " -1.3526044416863016e-13\n",
       " -1.5889085680809754e-13\n",
       " -1.8951668840114127e-13\n",
       "  0.33369804377891443   \n",
       "  4.826895994875968e-13 \n",
       "  1.9822601565776015e-13\n",
       "  4.6477926992998824e-14\n",
       " -0.1095637150530719    \n",
       " -3.3300265093877266e-13\n",
       " -8.823441783880749e-14 \n",
       "  3.007467729954672e-14 \n",
       "  0.027727208655880107  \n",
       "  ⋮                     \n",
       " -5.460429238111271e-26 \n",
       "  8.080702871186014e-27 \n",
       "  3.0636948687612145e-26\n",
       "  7.539210439172542e-17 \n",
       "  1.0683984359179834e-26\n",
       " -1.53342449101171e-27  \n",
       " -5.972927894745216e-27 \n",
       " -1.3282640593996197e-17\n",
       " -2.0875023347567144e-27\n",
       "  2.837758681937103e-28 \n",
       "  1.1565202815326492e-27\n",
       "  2.3348066056079902e-18"
      ]
     },
     "execution_count": 23,
     "metadata": {},
     "output_type": "execute_result"
    }
   ],
   "source": [
    "x_bar"
   ]
  },
  {
   "cell_type": "markdown",
   "metadata": {},
   "source": [
    "Finally we define $A$ and the bounds needed for the radii polynomial"
   ]
  },
  {
   "cell_type": "code",
   "execution_count": 24,
   "metadata": {},
   "outputs": [],
   "source": [
    "A = inv(Df(x_bar, lambda));"
   ]
  },
  {
   "cell_type": "code",
   "execution_count": 25,
   "metadata": {},
   "outputs": [
    {
     "data": {
      "text/plain": [
       "2.841972686990746e-12"
      ]
     },
     "execution_count": 25,
     "metadata": {},
     "output_type": "execute_result"
    }
   ],
   "source": [
    "Y0 = norm(A * f(x_bar, lambda), 1)"
   ]
  },
  {
   "cell_type": "code",
   "execution_count": 26,
   "metadata": {},
   "outputs": [
    {
     "data": {
      "text/plain": [
       "3.1383775001942832e-12"
      ]
     },
     "execution_count": 26,
     "metadata": {},
     "output_type": "execute_result"
    }
   ],
   "source": [
    "Z0 = norm(I - A * Df(x_bar, lambda), 1)"
   ]
  },
  {
   "cell_type": "code",
   "execution_count": 27,
   "metadata": {},
   "outputs": [
    {
     "data": {
      "text/plain": [
       "8652.19193125087"
      ]
     },
     "execution_count": 27,
     "metadata": {},
     "output_type": "execute_result"
    }
   ],
   "source": [
    "Z2 = 2.0 * abs(lambda) * norm(A, 1)"
   ]
  },
  {
   "cell_type": "markdown",
   "metadata": {},
   "source": [
    "The radii polynomial is given by $p(r) = Z_2 r^2 - (1 - Z_0) r + Y_0$."
   ]
  },
  {
   "cell_type": "code",
   "execution_count": 28,
   "metadata": {},
   "outputs": [
    {
     "data": {
      "text/html": [
       "2.841972686990746e-12 &#45; 0.9999999999968616&#8729;x &#43; 8652.19193125087&#8729;x^2"
      ],
      "text/latex": [
       "$2.841972686990746e-12 - 0.9999999999968616\\cdot x + 8652.19193125087\\cdot x^{2}$"
      ],
      "text/plain": [
       "Poly(2.841972686990746e-12 - 0.9999999999968616*x + 8652.19193125087*x^2)"
      ]
     },
     "execution_count": 28,
     "metadata": {},
     "output_type": "execute_result"
    }
   ],
   "source": [
    "p = Poly([Y0, -(1 - Z0), Z2])"
   ]
  },
  {
   "cell_type": "markdown",
   "metadata": {},
   "source": [
    "Finally we find the roots of the radii polynomial."
   ]
  },
  {
   "cell_type": "code",
   "execution_count": 29,
   "metadata": {},
   "outputs": [
    {
     "data": {
      "text/plain": [
       "2-element Array{Float64,1}:\n",
       " 0.00011557764591370954\n",
       " 2.841972756881768e-12 "
      ]
     },
     "execution_count": 29,
     "metadata": {},
     "output_type": "execute_result"
    }
   ],
   "source": [
    "roots(p)"
   ]
  },
  {
   "cell_type": "code",
   "execution_count": null,
   "metadata": {},
   "outputs": [],
   "source": []
  }
 ],
 "metadata": {
  "kernelspec": {
   "display_name": "Julia 1.0.3",
   "language": "julia",
   "name": "julia-1.0"
  },
  "language_info": {
   "file_extension": ".jl",
   "mimetype": "application/julia",
   "name": "julia",
   "version": "1.0.3"
  }
 },
 "nbformat": 4,
 "nbformat_minor": 2
}
