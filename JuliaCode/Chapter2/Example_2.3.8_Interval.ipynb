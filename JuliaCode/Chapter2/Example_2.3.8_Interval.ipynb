{
 "cells": [
  {
   "cell_type": "markdown",
   "metadata": {},
   "source": [
    "# Verifying zeros of the Lorenz system with Interval Arithmetic"
   ]
  },
  {
   "cell_type": "markdown",
   "metadata": {},
   "source": [
    "We begin by installing the interval arithmetic package and loading the other packages that will be used for the computations."
   ]
  },
  {
   "cell_type": "code",
   "execution_count": 24,
   "metadata": {},
   "outputs": [],
   "source": [
    "using Pkg"
   ]
  },
  {
   "cell_type": "code",
   "execution_count": 25,
   "metadata": {},
   "outputs": [
    {
     "name": "stdout",
     "output_type": "stream",
     "text": [
      "\u001b[32m\u001b[1m Resolving\u001b[22m\u001b[39m package versions...\n",
      "\u001b[32m\u001b[1m  Updating\u001b[22m\u001b[39m `~/.julia/Project.toml`\n",
      "\u001b[90m [no changes]\u001b[39m\n",
      "\u001b[32m\u001b[1m  Updating\u001b[22m\u001b[39m `~/.julia/Manifest.toml`\n",
      "\u001b[90m [no changes]\u001b[39m\n"
     ]
    }
   ],
   "source": [
    "# Install the IntervalArithmetic package\n",
    "# Just need to do this once\n",
    "Pkg.add(\"IntervalArithmetic\")"
   ]
  },
  {
   "cell_type": "code",
   "execution_count": 26,
   "metadata": {},
   "outputs": [],
   "source": [
    "using Polynomials\n",
    "using LinearAlgebra\n",
    "using IntervalArithmetic"
   ]
  },
  {
   "cell_type": "markdown",
   "metadata": {},
   "source": [
    "Now we define the vector field $f$ and its derivative $Df$ for the Lorenz equations, which are functions of a variable $x \\in \\mathbb{R}^3$ and three parameters $\\sigma$, $\\rho$, and $\\beta$ which we denote by $s$, $r$, and $b$ respectively."
   ]
  },
  {
   "cell_type": "code",
   "execution_count": 27,
   "metadata": {},
   "outputs": [
    {
     "data": {
      "text/plain": [
       "f (generic function with 1 method)"
      ]
     },
     "execution_count": 27,
     "metadata": {},
     "output_type": "execute_result"
    }
   ],
   "source": [
    "f(x, s, r, b) = [s * (x[2] - x[1]), r * x[1] - x[2] - x[1] * x[3], - b * x[3] + x[1] * x[2]]"
   ]
  },
  {
   "cell_type": "code",
   "execution_count": 28,
   "metadata": {},
   "outputs": [
    {
     "data": {
      "text/plain": [
       "Df (generic function with 1 method)"
      ]
     },
     "execution_count": 28,
     "metadata": {},
     "output_type": "execute_result"
    }
   ],
   "source": [
    "Df(x, s, r, b) = [-s s 0; r - x[3] -1 -x[1]; x[2] x[1] -b]"
   ]
  },
  {
   "cell_type": "markdown",
   "metadata": {},
   "source": [
    "We define the parameters as intervals containing the parameter values of interest."
   ]
  },
  {
   "cell_type": "code",
   "execution_count": 29,
   "metadata": {},
   "outputs": [],
   "source": [
    "si = @interval(10); ri = @interval(28); bi = @interval(8/3);"
   ]
  },
  {
   "cell_type": "markdown",
   "metadata": {},
   "source": [
    "For the numerical (non-rigorous) computations we do not want to use intervals, so we define floating point versions of the parameter values as the upper limits of the interval parameters."
   ]
  },
  {
   "cell_type": "code",
   "execution_count": 30,
   "metadata": {},
   "outputs": [],
   "source": [
    "# We could also use the lower limits\n",
    "# s = si.lo; r = ri.lo; b = bi.lo;\n",
    "s = si.hi; r = ri.hi; b = bi.hi;"
   ]
  },
  {
   "cell_type": "markdown",
   "metadata": {},
   "source": [
    "Next we define the approximate solution $\\bar{x}$."
   ]
  },
  {
   "cell_type": "code",
   "execution_count": 31,
   "metadata": {},
   "outputs": [],
   "source": [
    "x_bar = [8.4853, 8.4853, 27];"
   ]
  },
  {
   "cell_type": "markdown",
   "metadata": {},
   "source": [
    "The first step in applying the radii polynomial theorem is to choose $A$. We do not want to compute the inverse using interval arithmetic since it is expensive. So we compute the inverse numerically using floating point arithmetic."
   ]
  },
  {
   "cell_type": "code",
   "execution_count": 32,
   "metadata": {},
   "outputs": [
    {
     "data": {
      "text/plain": [
       "3×3 Array{Float64,2}:\n",
       " -0.0518518  -0.0185184  0.0589254\n",
       "  0.0481482  -0.0185184  0.0589254\n",
       " -0.0117851  -0.117851   0.0      "
      ]
     },
     "execution_count": 32,
     "metadata": {},
     "output_type": "execute_result"
    }
   ],
   "source": [
    "A = inv(Df(x_bar, s, r, b))"
   ]
  },
  {
   "cell_type": "markdown",
   "metadata": {},
   "source": [
    "Then we define interval versions of $A$ and $\\bar{x}$ to be used for the rigorous computations of the bounds."
   ]
  },
  {
   "cell_type": "code",
   "execution_count": 33,
   "metadata": {},
   "outputs": [
    {
     "data": {
      "text/plain": [
       "3×3 Array{Interval{Float64},2}:\n",
       " [-0.0518519, -0.0518518]  …      [0.0589254, 0.0589255]\n",
       "  [0.0481481, 0.0481482]          [0.0589254, 0.0589255]\n",
       " [-0.0117851, -0.011785]      [0, 0]                    "
      ]
     },
     "execution_count": 33,
     "metadata": {},
     "output_type": "execute_result"
    }
   ],
   "source": [
    "Ai = interval.(A)"
   ]
  },
  {
   "cell_type": "code",
   "execution_count": 34,
   "metadata": {},
   "outputs": [
    {
     "data": {
      "text/plain": [
       "3-element Array{Interval{Float64},1}:\n",
       "       [8.4853, 8.48531]\n",
       "       [8.4853, 8.48531]\n",
       " [27, 27]               "
      ]
     },
     "execution_count": 34,
     "metadata": {},
     "output_type": "execute_result"
    }
   ],
   "source": [
    "x_bar_i = interval.(x_bar)"
   ]
  },
  {
   "cell_type": "markdown",
   "metadata": {},
   "source": [
    "Now define the rigorous bounds, using interval arithmetic, for the radii polynomial theorem."
   ]
  },
  {
   "cell_type": "code",
   "execution_count": 35,
   "metadata": {},
   "outputs": [
    {
     "data": {
      "text/plain": [
       "[1.86257e-05, 1.86258e-05]"
      ]
     },
     "execution_count": 35,
     "metadata": {},
     "output_type": "execute_result"
    }
   ],
   "source": [
    "Y0i = norm(Ai * f(x_bar_i, si, ri, bi), Inf)"
   ]
  },
  {
   "cell_type": "markdown",
   "metadata": {},
   "source": [
    "Notice that we do not need to define the identity matrix, $I$, below. Julia uses the symbols $\\textsf{I}$ to represent the identity matrix and it infers its size from the expression where it is used."
   ]
  },
  {
   "cell_type": "code",
   "execution_count": 36,
   "metadata": {},
   "outputs": [
    {
     "data": {
      "text/plain": [
       "[0, 1.11023e-16]"
      ]
     },
     "execution_count": 36,
     "metadata": {},
     "output_type": "execute_result"
    }
   ],
   "source": [
    "Z0i = norm(I - Ai * Df(x_bar_i, si, ri, bi), Inf)"
   ]
  },
  {
   "cell_type": "code",
   "execution_count": 37,
   "metadata": {},
   "outputs": [
    {
     "data": {
      "text/plain": [
       "[0.235701, 0.235702]"
      ]
     },
     "execution_count": 37,
     "metadata": {},
     "output_type": "execute_result"
    }
   ],
   "source": [
    "Z2i = 2 * max(abs(Ai[1,2]) + abs(Ai[1,3]), abs(Ai[2,2]) + abs(Ai[2,3]), abs(Ai[3,2]) + abs(Ai[3,3]))"
   ]
  },
  {
   "cell_type": "markdown",
   "metadata": {},
   "source": [
    "To find the radius $r_0$ in the radii polynomial theorem we do not need to use interval arithemetic, hence we define floating point values for the coefficients of the polynomial and find its roots numerically. We use the upper limits of the intervals as the bounds we need. Notice that the values $Y_0$, $Z_0$, and $Z_2$ computed below are rigorous upper bounds since they are the upper limits of the intervals computed rigorously with interval arithmetic."
   ]
  },
  {
   "cell_type": "code",
   "execution_count": 38,
   "metadata": {},
   "outputs": [],
   "source": [
    "Y0 = Y0i.hi; Z0 = Z0i.hi; Z2 = Z2i.hi;"
   ]
  },
  {
   "cell_type": "markdown",
   "metadata": {},
   "source": [
    "The radii polynomial is given by $p(r) = Z_2 r^2 - (1 - Z_0) r + Y_0$."
   ]
  },
  {
   "cell_type": "code",
   "execution_count": 39,
   "metadata": {},
   "outputs": [
    {
     "data": {
      "text/html": [
       "1.862574098998336e-5 &#45; 0.9999999999999999&#8729;x &#43; 0.23570174301438956&#8729;x^2"
      ],
      "text/latex": [
       "$1.862574098998336e-5 - 0.9999999999999999\\cdot x + 0.23570174301438956\\cdot x^{2}$"
      ],
      "text/plain": [
       "Poly(1.862574098998336e-5 - 0.9999999999999999*x + 0.23570174301438956*x^2)"
      ]
     },
     "execution_count": 39,
     "metadata": {},
     "output_type": "execute_result"
    }
   ],
   "source": [
    "p = Poly([Y0, -(1 - Z0), Z2])"
   ]
  },
  {
   "cell_type": "markdown",
   "metadata": {},
   "source": [
    "Finally we find the roots of the radii polynomial."
   ]
  },
  {
   "cell_type": "code",
   "execution_count": 40,
   "metadata": {},
   "outputs": [
    {
     "data": {
      "text/plain": [
       "2-element Array{Float64,1}:\n",
       " 4.24263137417724     \n",
       " 1.8625822759932215e-5"
      ]
     },
     "execution_count": 40,
     "metadata": {},
     "output_type": "execute_result"
    }
   ],
   "source": [
    "rs = roots(p)"
   ]
  },
  {
   "cell_type": "markdown",
   "metadata": {},
   "source": [
    "We call the roots $r_1$ and $r_2$, and define $r_0$ as the mid point of interval $[r_1, r_2]$. This will give us one radius $r_0$ of existence by the radii polynomial theorem. Notice that we could also define an interval $[r_{-}, r_{+}]$ slightly smaller that $[r_1, r_2]$ and use the radii polynomial theorem to get an interval, $[r_{-}, r_{+}]$, of radii of existence and uniqueness."
   ]
  },
  {
   "cell_type": "code",
   "execution_count": 41,
   "metadata": {},
   "outputs": [],
   "source": [
    "r1 = rs[2]; r2 = rs[1]; r0 = (r1 + r2) / 2.0;"
   ]
  },
  {
   "cell_type": "markdown",
   "metadata": {},
   "source": [
    "Now we define an interval version of $r_0$ and compute $p(r_0)$ using interval arithemetic to rigorously check that $p(r_0) < 0$."
   ]
  },
  {
   "cell_type": "code",
   "execution_count": 42,
   "metadata": {},
   "outputs": [
    {
     "data": {
      "text/plain": [
       "[2.12132, 2.12133]"
      ]
     },
     "execution_count": 42,
     "metadata": {},
     "output_type": "execute_result"
    }
   ],
   "source": [
    "r0i = @interval(r0)"
   ]
  },
  {
   "cell_type": "code",
   "execution_count": 43,
   "metadata": {},
   "outputs": [
    {
     "data": {
      "text/plain": [
       "[-1.06065, -1.06064]"
      ]
     },
     "execution_count": 43,
     "metadata": {},
     "output_type": "execute_result"
    }
   ],
   "source": [
    "p_r0i = Z2i * r0i^2 -(1 - Z0i) * r0i + Y0i"
   ]
  },
  {
   "cell_type": "markdown",
   "metadata": {},
   "source": [
    "Finally all that is left to do is to check if $p(r_0) < 0$. This check is rigorous, as it is done using interval arithmetic."
   ]
  },
  {
   "cell_type": "code",
   "execution_count": 44,
   "metadata": {},
   "outputs": [
    {
     "name": "stdout",
     "output_type": "stream",
     "text": [
      "Rigorous Proof Successful!\n"
     ]
    }
   ],
   "source": [
    "if p_r0i < 0\n",
    "  println(\"Rigorous Proof Successful!\")\n",
    "else\n",
    "  println(\"Rigorous Proof Failed!\")\n",
    "end"
   ]
  },
  {
   "cell_type": "code",
   "execution_count": null,
   "metadata": {},
   "outputs": [],
   "source": []
  }
 ],
 "metadata": {
  "kernelspec": {
   "display_name": "Julia 1.0.3",
   "language": "julia",
   "name": "julia-1.0"
  },
  "language_info": {
   "file_extension": ".jl",
   "mimetype": "application/julia",
   "name": "julia",
   "version": "1.0.3"
  }
 },
 "nbformat": 4,
 "nbformat_minor": 2
}
